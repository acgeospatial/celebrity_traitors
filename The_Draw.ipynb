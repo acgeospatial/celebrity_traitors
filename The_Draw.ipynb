{
 "cells": [
  {
   "cell_type": "code",
   "execution_count": 1,
   "id": "dc215ec4-9050-46ec-9ac5-6a4022a46b2f",
   "metadata": {},
   "outputs": [
    {
     "name": "stdout",
     "output_type": "stream",
     "text": [
      "('Iris', 'Tameka Empson')\n",
      "('Theo', 'Stephen Fry')\n",
      "('Hetty', 'Clare Balding')\n",
      "('Abi', 'Ruth Codd')\n",
      "('Alfie', 'Nick Mohammed')\n",
      "('Wilfred', 'Joe Wilkinson')\n",
      "('Emma', 'Tom Daley')\n",
      "('Louise', 'Celia Imrie')\n",
      "('Tom', 'Kate Garraway')\n",
      "('Charlie', 'Jonathan Ross')\n",
      "('Jess', 'Lucy Beaumont')\n",
      "('Evie', 'Joe Marler')\n",
      "('Sue', 'Mark Bonnar')\n",
      "('Chris', 'Niko Omilana')\n",
      "('Zoe', 'Cat Burns')\n",
      "('Elodie', 'David Olusoga')\n",
      "('Phil', 'Alan Carr')\n",
      "('Daisy', 'Charlotte Church')\n",
      "('G', 'Paloma Faith')\n"
     ]
    }
   ],
   "source": [
    "import pandas as pd\n",
    "from random import shuffle\n",
    "\n",
    "# read a list of the celebrity traitors into a dataframe\n",
    "traitors_df = pd.read_csv(r'celeb_traitors.csv')\n",
    "\n",
    "# extract the traitor name as a list\n",
    "names = traitors_df['traitor'].tolist()\n",
    "# shuffle the names so order is random\n",
    "shuffle(names)\n",
    "\n",
    "# create a list of friends that matches length of traitors (19)\n",
    "friends = ['Elodie', 'Abi', 'Jess', 'Charlie', 'Theo', 'Sue', 'Evie', 'G', 'Phil', 'Louise', 'Alfie',\n",
    "           'Tom', 'Daisy', 'Hetty', 'Wilfred', 'Chris', 'Emma', 'Zoe', 'Iris'] \n",
    "\n",
    "# shuffle the friends so order is random\n",
    "shuffle(friends)\n",
    "\n",
    "# create the pairings with zip\n",
    "pairings = zip(friends, names)\n",
    "# iterate over zip object as its a generator (could be converted to list)\n",
    "for pair in pairings:\n",
    "    print(pair)"
   ]
  },
  {
   "cell_type": "code",
   "execution_count": null,
   "id": "857023ad-4aaa-4a96-825c-3c97f2df9f15",
   "metadata": {},
   "outputs": [],
   "source": []
  }
 ],
 "metadata": {
  "kernelspec": {
   "display_name": "geo",
   "language": "python",
   "name": "geo"
  },
  "language_info": {
   "codemirror_mode": {
    "name": "ipython",
    "version": 3
   },
   "file_extension": ".py",
   "mimetype": "text/x-python",
   "name": "python",
   "nbconvert_exporter": "python",
   "pygments_lexer": "ipython3",
   "version": "3.12.4"
  }
 },
 "nbformat": 4,
 "nbformat_minor": 5
}
